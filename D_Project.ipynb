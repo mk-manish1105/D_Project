{
 "cells": [
  {
   "cell_type": "markdown",
   "id": "d3f9b601-87ed-4b7e-a833-c79e9607d6d3",
   "metadata": {},
   "source": [
    "# Imports & Setup"
   ]
  },
  {
   "cell_type": "code",
   "execution_count": 1,
   "id": "0fb618d8-ac86-4160-a179-935d21460a22",
   "metadata": {},
   "outputs": [
    {
     "name": "stderr",
     "output_type": "stream",
     "text": [
      "C:\\Users\\mkman\\AppData\\Roaming\\Python\\Python311\\site-packages\\tqdm\\auto.py:21: TqdmWarning: IProgress not found. Please update jupyter and ipywidgets. See https://ipywidgets.readthedocs.io/en/stable/user_install.html\n",
      "  from .autonotebook import tqdm as notebook_tqdm\n"
     ]
    }
   ],
   "source": [
    "import os\n",
    "import fitz  # PyMuPDF\n",
    "import docx\n",
    "import pandas as pd\n",
    "from pptx import Presentation\n",
    "import pytesseract\n",
    "from PIL import Image, ImageFilter\n",
    "import re\n",
    "from sentence_transformers import SentenceTransformer\n",
    "import csv\n",
    "from collections import defaultdict\n",
    "import matplotlib.pyplot as plt\n",
    "from sklearn.decomposition import PCA\n",
    "from sklearn.cluster import KMeans\n",
    "import numpy as np"
   ]
  },
  {
   "cell_type": "markdown",
   "id": "48f42250-efbf-46ab-9c9d-8731c1d14bc9",
   "metadata": {},
   "source": [
    "# CONFIG"
   ]
  },
  {
   "cell_type": "code",
   "execution_count": 2,
   "id": "cff65631-947b-4825-9342-4b2c15b87914",
   "metadata": {},
   "outputs": [],
   "source": [
    "INPUT_FOLDER = \"E:\\CODING\\Python\\DRDO Internship Project\\project_data\"\n",
    "OUTPUT_CSV = \"output_embeddings_labels_2.csv\"\n",
    "GROUPED_OUTPUT = \"grouped_files_by_cluster_2.txt\""
   ]
  },
  {
   "cell_type": "markdown",
   "id": "07e032a0-2628-423f-bc6a-ca26cfe85bc8",
   "metadata": {},
   "source": [
    "# Initialize model"
   ]
  },
  {
   "cell_type": "code",
   "execution_count": 3,
   "id": "45cf4309-76a2-4b4a-be58-91671bb92e8e",
   "metadata": {},
   "outputs": [],
   "source": [
    "sbert_model = SentenceTransformer(\"all-MiniLM-L6-v2\")"
   ]
  },
  {
   "cell_type": "markdown",
   "id": "1a146fdb-9fe5-4f20-a8bc-5dcf64086666",
   "metadata": {},
   "source": [
    "# Different Text Extraction Functions of Differnt Types of Files"
   ]
  },
  {
   "cell_type": "code",
   "execution_count": 4,
   "id": "95241f93-1fdc-4d8f-a5b1-f261c25cdc64",
   "metadata": {},
   "outputs": [],
   "source": [
    "def extract_text_from_pdf(filepath):\n",
    "    try:\n",
    "        with fitz.open(filepath) as doc:\n",
    "            return \" \".join(page.get_text() for page in doc)\n",
    "    except:\n",
    "        return \"\"\n",
    "\n",
    "def extract_text_from_docx(filepath):\n",
    "    try:\n",
    "        doc = docx.Document(filepath)\n",
    "        return \" \".join(para.text for para in doc.paragraphs)\n",
    "    except:\n",
    "        return \"\"\n",
    "\n",
    "def extract_text_from_excel(filepath):\n",
    "    try:\n",
    "        dfs = pd.read_excel(filepath, sheet_name=None)\n",
    "        rows = []\n",
    "        for sheet_name, df in dfs.items():\n",
    "            df = df.fillna(\"\")\n",
    "            for _, row in df.iterrows():\n",
    "                line = \" \".join(str(cell) for cell in row if str(cell).strip() != \"\")\n",
    "                if line:\n",
    "                    rows.append(line)\n",
    "        return \" \".join(rows)\n",
    "    except Exception as e:\n",
    "        print(f\"Error reading Excel {filepath}: {e}\")\n",
    "        return \"\"\n",
    "\n",
    "def extract_text_from_pptx(filepath):\n",
    "    try:\n",
    "        prs = Presentation(filepath)\n",
    "        return \" \".join(shape.text for slide in prs.slides for shape in slide.shapes if hasattr(shape, \"text\"))\n",
    "    except:\n",
    "        return \"\"\n",
    "\n",
    "def extract_text_from_image(filepath):\n",
    "    try:\n",
    "        img = Image.open(filepath).convert(\"L\").filter(ImageFilter.SHARPEN)\n",
    "        return pytesseract.image_to_string(img)\n",
    "    except:\n",
    "        return \"\"\n",
    "\n",
    "def clean_text(text):\n",
    "    text = text.lower()\n",
    "    text = re.sub(r\"[^a-z0-9\\s]\", \"\", text)\n",
    "    text = re.sub(r\"\\s+\", \" \", text)\n",
    "    return text.strip()\n"
   ]
  },
  {
   "cell_type": "markdown",
   "id": "283d05d4-bdf0-4cc7-8105-df33e55999cb",
   "metadata": {},
   "source": [
    "# Text Cleaning Function"
   ]
  },
  {
   "cell_type": "code",
   "execution_count": 5,
   "id": "affab307-3eea-4b4e-aa63-2f7762c22d2e",
   "metadata": {},
   "outputs": [],
   "source": [
    "def clean_text(text):\n",
    "    text = text.lower()\n",
    "    text = re.sub(r\"[^a-z0-9\\s]\", \"\", text)\n",
    "    text = re.sub(r\"\\s+\", \" \", text)\n",
    "    return text.strip()"
   ]
  },
  {
   "cell_type": "markdown",
   "id": "fcfe8d15-f5a3-40c0-8f09-1aa046e0116a",
   "metadata": {},
   "source": [
    "# Extract_text Function"
   ]
  },
  {
   "cell_type": "code",
   "execution_count": 6,
   "id": "e22101e3-1f0a-4c5b-83f6-cac310ab36d9",
   "metadata": {},
   "outputs": [],
   "source": [
    "def extract_text(filepath):\n",
    "    ext = filepath.lower().split(\".\")[-1]\n",
    "    if ext == \"pdf\":\n",
    "        return extract_text_from_pdf(filepath)\n",
    "    elif ext == \"docx\":\n",
    "        return extract_text_from_docx(filepath)\n",
    "    elif ext in [\"xlsx\", \"xls\"]:\n",
    "        return extract_text_from_excel(filepath)\n",
    "    elif ext == \"pptx\":\n",
    "        return extract_text_from_pptx(filepath)\n",
    "    elif ext in [\"jpg\", \"jpeg\", \"png\"]:\n",
    "        return extract_text_from_image(filepath)\n",
    "    elif ext == \"txt\":\n",
    "        try:\n",
    "            with open(filepath, \"r\", encoding=\"utf-8\") as f:\n",
    "                return f.read()\n",
    "        except:\n",
    "            return \"\"\n",
    "    else:\n",
    "        return \"\"\n"
   ]
  },
  {
   "cell_type": "markdown",
   "id": "98900b7f-9f72-4946-af03-2bbe005daada",
   "metadata": {},
   "source": [
    "# Text Extraction Loop"
   ]
  },
  {
   "cell_type": "code",
   "execution_count": 7,
   "id": "e67a6043-46bc-440f-873a-91e4f0fad759",
   "metadata": {},
   "outputs": [
    {
     "name": "stdout",
     "output_type": "stream",
     "text": [
      "Extracted and cleaned 12 documents.\n"
     ]
    }
   ],
   "source": [
    "filepaths, texts = [], []\n",
    "for root, dirs, files in os.walk(INPUT_FOLDER):\n",
    "    for file in files:\n",
    "        filepath = os.path.join(root, file)\n",
    "        text = extract_text(filepath)\n",
    "        if text:\n",
    "            cleaned = clean_text(text)\n",
    "            filepaths.append(filepath)\n",
    "            texts.append(cleaned)\n",
    "\n",
    "print(f\"Extracted and cleaned {len(texts)} documents.\")\n"
   ]
  },
  {
   "cell_type": "code",
   "execution_count": 8,
   "id": "91c93219-17b4-4212-86b3-3ccabc659046",
   "metadata": {},
   "outputs": [
    {
     "data": {
      "text/plain": [
       "['E:\\\\CODING\\\\Python\\\\DRDO Internship Project\\\\project_data\\\\AI_Presentation.pptx',\n",
       " 'E:\\\\CODING\\\\Python\\\\DRDO Internship Project\\\\project_data\\\\AI_Technical_Report.docx',\n",
       " 'E:\\\\CODING\\\\Python\\\\DRDO Internship Project\\\\project_data\\\\AI_Technical_Report.pdf',\n",
       " 'E:\\\\CODING\\\\Python\\\\DRDO Internship Project\\\\project_data\\\\Cybersecurity_Modern_Era.docx',\n",
       " 'E:\\\\CODING\\\\Python\\\\DRDO Internship Project\\\\project_data\\\\Cybersecurity_Trends_Challenges.pdf',\n",
       " 'E:\\\\CODING\\\\Python\\\\DRDO Internship Project\\\\project_data\\\\Defense_Equipment_Specifications.xlsx',\n",
       " 'E:\\\\CODING\\\\Python\\\\DRDO Internship Project\\\\project_data\\\\Defense_Technologies_Missile_Guidance.pdf',\n",
       " 'E:\\\\CODING\\\\Python\\\\DRDO Internship Project\\\\project_data\\\\Defense_Technologies_Presentation.pptx',\n",
       " 'E:\\\\CODING\\\\Python\\\\DRDO Internship Project\\\\project_data\\\\Defense_Technologies_Radar.pdf',\n",
       " 'E:\\\\CODING\\\\Python\\\\DRDO Internship Project\\\\project_data\\\\Electronic_Warfare_Equipment.xlsx',\n",
       " 'E:\\\\CODING\\\\Python\\\\DRDO Internship Project\\\\project_data\\\\Electronic_Warfare_Presentation.pptx',\n",
       " 'E:\\\\CODING\\\\Python\\\\DRDO Internship Project\\\\project_data\\\\Electronic_Warfare_Principles.docx']"
      ]
     },
     "execution_count": 8,
     "metadata": {},
     "output_type": "execute_result"
    }
   ],
   "source": [
    "filepaths"
   ]
  },
  {
   "cell_type": "code",
   "execution_count": 9,
   "id": "99f890c7-5dd1-4a26-b7c1-1b3398d4e940",
   "metadata": {},
   "outputs": [
    {
     "data": {
      "text/plain": [
       "['artificial intelligence exploring the potential of intelligent machines what is artificial intelligence simulation of human intelligence by machines encompasses machine learning nlp robotics computer vision used in everyday applications applications of ai healthcare diagnostics autonomous vehicles smart assistants financial fraud detection the future of ai increased automation ethical and regulatory frameworks humanai collaboration',\n",
       " 'artificial intelligence transforming the future 1 introduction artificial intelligence ai refers to the simulation of human intelligence in machines that are designed to think learn and adapt ai spans multiple fields including computer science linguistics psychology and engineering it encompasses a wide array of applications from expert systems and machine learning to robotics and natural language processing nlp 2 history of ai the term artificial intelligence was first coined in 1956 by john mccarthy at the dartmouth conference early ai research focused on problem solving and symbolic methods the 1980s saw the rise of expert systems while the last two decades have been dominated by advancements in machine learning particularly deep learning 3 core concepts in ai artificial intelligence includes a variety of subfields 1 machine learning 2 deep learning 3 computer vision 4 natural language processing 5 robotics 4 applications of ai ai technologies are increasingly integrated into everyday life including virtual assistants eg siri alexa autonomous vehicles predictive analytics fraud detection healthcare diagnostics 5 challenges and ethical considerations despite its potential ai faces challenges including data privacy algorithmic bias and the displacement of human jobs ethical frameworks are essential to guide responsible ai development and deployment 6 conclusion artificial intelligence is a transformative force that will redefine industries and reshape society its responsible development is critical to ensuring its benefits are shared broadly across humanity',\n",
       " 'artificial intelligence transforming the future introduction artificial intelligence ai refers to the simulation of human intelligence in machines applications of ai virtual assistants eg siri alexa autonomous vehicles predictive analytics fraud detection healthcare diagnostics challenges and ethics challenges include data privacy algorithmic bias and job displacement ethical frameworks are essential for responsible development conclusion artificial intelligence is a transformative force for society',\n",
       " 'cybersecurity in the modern era 1 introduction cybersecurity is the practice of protecting computer systems networks and digital information from unauthorized access theft or damage as technology advances so do the threats posed by cybercriminals making cybersecurity an essential component of modern information technology 2 types of cyber threats malware software designed to damage or disrupt systems phishing fraudulent emails that trick users into revealing personal information ransomware malicious software that encrypts data and demands payment for its release denialofservice dos attacks overwhelm systems to make services unavailable 3 cybersecurity measures effective cybersecurity involves multiple layers of protection including firewalls antivirus software intrusion detection systems ids encryption regular software updates 4 challenges in cybersecurity rapidly evolving threats shortage of cybersecurity professionals balancing privacy and security securing internet of things iot devices 5 conclusion cybersecurity is an ongoing battle against sophisticated attackers organizations must adopt proactive measures and stay informed about emerging threats to protect their digital assets',\n",
       " 'cybersecurity trends and challenges as digital transformation accelerates globally cybersecurity remains a top priority for organizations of all sizes emerging trends artificial intelligence in threat detection zero trust security models cloud security enhancements security automation challenges increasing ransomware attacks sophisticated phishing campaigns securing remote work environments conclusion cybersecurity requires a comprehensive adaptive and proactive approach to safeguard modern it infrastructures',\n",
       " 'radar system x 250 500 active missile type a 120 200 active drone model q 50 80 testing electronic warfare kit z 80 150 active',\n",
       " 'missile guidance technologies in modern warfare introduction to missile guidance missile guidance systems are technologies that help control the flight path of a missile types include command guidance homing guidance inertial guidance recent developments advancements in ai and machine learning are improving missile accuracy challenges electronic countermeasures can interfere with guidance systems necessitating robust encryption and adaptive control',\n",
       " 'defense technologies overview key components in modern defense systems core technologies radar systems missile guidance electronic warfare autonomous drones challenges in modern warfare electronic countermeasures cyber threats rapid technology advancement resource management',\n",
       " 'radar systems in modern defense introduction to radar systems radar radio detection and ranging is a system that uses radio waves to detect objects applications include air traffic control missile guidance and weather forecasting components of radar systems transmitter receiver antenna signal processor challenges radar systems must overcome clutter interference and jamming from enemy sources conclusion modern radar systems are essential for both civilian and military applications',\n",
       " 'radar jammer typea 50 200 active emp generator modelz 1000 5 prototype ew dronex 25 50 active',\n",
       " 'electronic warfare utilizing the electromagnetic spectrum in warfare key categories electronic attack ea electronic protection ep electronic support es technologies and challenges radar jammers emps directed energy weapons spectrum congestion need for realtime analytics',\n",
       " 'electronic warfare principles and applications 1 introduction electronic warfare ew refers to military actions involving the use of electromagnetic spectrum to control the spectrum attack an enemy or impede enemy assaults ew is a critical component of modern warfare often serving as a force multiplier in combat operations 2 categories of electronic warfare electronic attack ea disrupt degrade or destroy enemy electronic systems electronic protection ep safeguard friendly use of the electromagnetic spectrum electronic support es detect and intercept adversary electromagnetic signals 3 key technologies used radar jammers directed energy weapons electromagnetic pulse emp devices electronic countermeasure pods 4 challenges and countermeasures increasing sophistication of enemy countermeasures the complexity of spectrum management in joint operations requirement for realtime data analysis 5 conclusion electronic warfare is integral to maintaining superiority in modern combat future developments will focus on artificial intelligencedriven spectrum management and autonomous ew platforms']"
      ]
     },
     "execution_count": 9,
     "metadata": {},
     "output_type": "execute_result"
    }
   ],
   "source": [
    "texts"
   ]
  },
  {
   "cell_type": "markdown",
   "id": "09717f33-55b4-4af2-be9f-22cadd9a888d",
   "metadata": {},
   "source": [
    "# Generating embeddings"
   ]
  },
  {
   "cell_type": "code",
   "execution_count": 10,
   "id": "f13e780f-e2a8-4393-b5a7-8eb9d2f85af2",
   "metadata": {},
   "outputs": [
    {
     "name": "stderr",
     "output_type": "stream",
     "text": [
      "Batches: 100%|███████████████████████████████| 1/1 [00:00<00:00,  1.33it/s]\n"
     ]
    }
   ],
   "source": [
    "embeddings = sbert_model.encode(texts, show_progress_bar=True)"
   ]
  },
  {
   "cell_type": "code",
   "execution_count": 11,
   "id": "597b9403-8a80-406b-ae70-3c82fdb621bd",
   "metadata": {},
   "outputs": [
    {
     "data": {
      "text/plain": [
       "array([[-0.0330854 , -0.01183691, -0.00308276, ...,  0.090037  ,\n",
       "         0.05513799, -0.04215843],\n",
       "       [-0.0598756 , -0.02743331,  0.03357216, ...,  0.03024944,\n",
       "         0.06649332, -0.0641619 ],\n",
       "       [-0.09850881,  0.01943897, -0.01706742, ...,  0.03366251,\n",
       "         0.06142511, -0.10635884],\n",
       "       ...,\n",
       "       [-0.05521594,  0.07121346, -0.08616917, ...,  0.01976446,\n",
       "        -0.03198169,  0.05416363],\n",
       "       [-0.04818469,  0.05589243, -0.04630978, ..., -0.08093128,\n",
       "        -0.0718637 ,  0.07299785],\n",
       "       [-0.02120008,  0.0720959 , -0.02534992, ..., -0.03649825,\n",
       "        -0.03913926,  0.04448051]], shape=(12, 384), dtype=float32)"
      ]
     },
     "execution_count": 11,
     "metadata": {},
     "output_type": "execute_result"
    }
   ],
   "source": [
    "embeddings"
   ]
  },
  {
   "cell_type": "markdown",
   "id": "db13df57-1070-42d4-ad11-b7d26eb53801",
   "metadata": {},
   "source": [
    "## Visualization: PCA 2D of Embeddings"
   ]
  },
  {
   "cell_type": "code",
   "execution_count": 12,
   "id": "a8eb17b2-4b6a-433e-bef1-01de8684444c",
   "metadata": {},
   "outputs": [
    {
     "data": {
      "image/png": "[encoded data removed]",
      "text/plain": [
       "<Figure size 800x600 with 1 Axes>"
      ]
     },
     "metadata": {},
     "output_type": "display_data"
    }
   ],
   "source": [
    "pca = PCA(n_components=2)\n",
    "pca_embeddings = pca.fit_transform(embeddings)\n",
    "plt.figure(figsize=(8, 6))\n",
    "plt.scatter(pca_embeddings[:, 0], pca_embeddings[:, 1], alpha=0.7)\n",
    "plt.title(\"PCA Visualization of Embeddings\")\n",
    "plt.xlabel(\"PC 1\")\n",
    "plt.ylabel(\"PC 2\")\n",
    "plt.show()"
   ]
  },
  {
   "cell_type": "markdown",
   "id": "1276119c-10da-4e6e-a4ed-eae3cd85688f",
   "metadata": {},
   "source": [
    "# Clustering with KMeans"
   ]
  },
  {
   "cell_type": "code",
   "execution_count": 13,
   "id": "374ad400-7a91-4774-bb0c-bb49725be421",
   "metadata": {},
   "outputs": [],
   "source": [
    "n_clusters = 4\n",
    "clusterer = KMeans(n_clusters=n_clusters, random_state=42)\n",
    "labels = clusterer.fit_predict(embeddings)"
   ]
  },
  {
   "cell_type": "markdown",
   "id": "514610c5-725d-4a7d-9fb1-8385f5b50f05",
   "metadata": {},
   "source": [
    "## Visualization: Clustering result"
   ]
  },
  {
   "cell_type": "code",
   "execution_count": 14,
   "id": "2ed7ab22-cc98-4f93-99a0-b5efafb14865",
   "metadata": {},
   "outputs": [
    {
     "name": "stderr",
     "output_type": "stream",
     "text": [
      "C:\\Users\\mkman\\AppData\\Local\\Temp\\ipykernel_3444\\2501116017.py:2: MatplotlibDeprecationWarning: The get_cmap function was deprecated in Matplotlib 3.7 and will be removed in 3.11. Use ``matplotlib.colormaps[name]`` or ``matplotlib.colormaps.get_cmap()`` or ``pyplot.get_cmap()`` instead.\n",
      "  palette = plt.cm.get_cmap('tab10', n_clusters)\n"
     ]
    },
    {
     "data": {
      "image/png": "[encoded data removed]",
      "text/plain": [
       "<Figure size 1000x800 with 1 Axes>"
      ]
     },
     "metadata": {},
     "output_type": "display_data"
    }
   ],
   "source": [
    "plt.figure(figsize=(10, 8))\n",
    "palette = plt.cm.get_cmap('tab10', n_clusters)\n",
    "colors = [palette(l) for l in labels]\n",
    "plt.scatter(pca_embeddings[:, 0], pca_embeddings[:, 1], c=colors, s=40)\n",
    "plt.title(f\"Clusters (KMeans, n_clusters={n_clusters})\")\n",
    "plt.xlabel(\"PC 1\")\n",
    "plt.ylabel(\"PC 2\")\n",
    "plt.show()"
   ]
  },
  {
   "cell_type": "markdown",
   "id": "3d8ec531-27c0-4555-8403-7818a4ee5a82",
   "metadata": {},
   "source": [
    "## Saving embeddings and cluster labels to: {OUTPUT_CSV}"
   ]
  },
  {
   "cell_type": "code",
   "execution_count": 15,
   "id": "caf154e7-56ef-4da6-8ac2-e33c6cae578f",
   "metadata": {},
   "outputs": [],
   "source": [
    "with open(OUTPUT_CSV, \"w\", newline='', encoding=\"utf-8\") as csvfile:\n",
    "    writer = csv.writer(csvfile)\n",
    "    writer.writerow([\"filepath\", \"label\"] + [f\"dim_{i}\" for i in range(embeddings.shape[1])])\n",
    "    for filepath, label, vec in zip(filepaths, labels, embeddings):\n",
    "        writer.writerow([filepath, label] + list(vec))\n",
    "\n",
    "clusters = defaultdict(list)\n",
    "for filepath, label in zip(filepaths, labels):\n",
    "    clusters[label].append(filepath)"
   ]
  },
  {
   "cell_type": "markdown",
   "id": "2bf68bbe-70d3-4cd1-bf6c-c031dc5ed483",
   "metadata": {},
   "source": [
    "## Saving grouped file list to: {GROUPED_OUTPUT}"
   ]
  },
  {
   "cell_type": "code",
   "execution_count": 16,
   "id": "6387ac39-b370-4e05-907c-203b22cf2e29",
   "metadata": {},
   "outputs": [],
   "source": [
    "with open(GROUPED_OUTPUT, \"w\", encoding=\"utf-8\") as f:\n",
    "    for label, files in sorted(clusters.items()):\n",
    "        f.write(f\"Cluster {label}:\")\n",
    "        f.write(\"\\n\")\n",
    "        for file in files:\n",
    "            f.write(f\"  {file}\\n\")\n",
    "        f.write(\"\\n\")"
   ]
  }
 ],
 "metadata": {
  "kernelspec": {
   "display_name": "Python (DRDO Project)",
   "language": "python",
   "name": "drdo_project"
  },
  "language_info": {
   "codemirror_mode": {
    "name": "ipython",
    "version": 3
   },
   "file_extension": ".py",
   "mimetype": "text/x-python",
   "name": "python",
   "nbconvert_exporter": "python",
   "pygments_lexer": "ipython3",
   "version": "3.11.13"
  }
 },
 "nbformat": 4,
 "nbformat_minor": 5
}
